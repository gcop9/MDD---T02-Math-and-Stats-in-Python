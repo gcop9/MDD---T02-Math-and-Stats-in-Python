{
 "cells": [
  {
   "cell_type": "code",
   "execution_count": null,
   "id": "4b0407c9-baa3-41d1-9e8a-652576fcfb8b",
   "metadata": {},
   "outputs": [],
   "source": [
    "## PRACTICES \n"
   ]
  },
  {
   "cell_type": "code",
   "execution_count": 8,
   "id": "02986d45-0faf-4352-ad76-e0ce6a7b0c43",
   "metadata": {},
   "outputs": [
    {
     "data": {
      "text/plain": [
       "float"
      ]
     },
     "execution_count": 8,
     "metadata": {},
     "output_type": "execute_result"
    }
   ],
   "source": [
    "# 1. Is the value 62.6738 rational or irrational? Why?\n",
    "\n",
    "## It is a rational number, because the number can be expressed as a fraction\n",
    "type(62.6738)"
   ]
  },
  {
   "cell_type": "code",
   "execution_count": 14,
   "id": "90ab9790-6ac7-48ba-a8d8-dd758754e96b",
   "metadata": {},
   "outputs": [
    {
     "name": "stdout",
     "output_type": "stream",
     "text": [
      "100.00000000000001\n",
      "100\n"
     ]
    }
   ],
   "source": [
    "# 2. Evaluate the expression 10**7 10**−5\n",
    "\n",
    "a = 10**7*10**-5\n",
    "print(a)\n",
    "\n",
    "## because the exponenial times an exponential adds up, 7+-5 = 2; 10**2\n",
    "b = 10**2 \n",
    "print(b)\n"
   ]
  },
  {
   "cell_type": "code",
   "execution_count": 16,
   "id": "2879df7a-cd34-4be7-9df8-2a9d970cec00",
   "metadata": {},
   "outputs": [
    {
     "name": "stdout",
     "output_type": "stream",
     "text": [
      "9.0\n",
      "9.0\n"
     ]
    }
   ],
   "source": [
    "# 3. Evaluate the expression 81**(1/2)\n",
    "## an exponential 1/2 is the same as a square root\n",
    "a = 81**(1/2)\n",
    "print(a)\n",
    "\n",
    "from math import sqrt \n",
    "b = sqrt(81)\n",
    "print(b)"
   ]
  },
  {
   "cell_type": "code",
   "execution_count": 1,
   "id": "b2ad9226-6167-4724-8fb8-2a309747c1c5",
   "metadata": {},
   "outputs": [],
   "source": [
    "# 4. Write a Python function named compute_logarithm that takes two parameters: ‘base’ and\n",
    "#‘number’. The function should compute and return the logarithm of ‘number’ with base\n",
    "#‘base’.\n",
    "\n",
    "def compute_logarithm"
   ]
  },
  {
   "cell_type": "code",
   "execution_count": null,
   "id": "905500d9-2a38-4f9f-8a2f-07636c7e7347",
   "metadata": {},
   "outputs": [],
   "source": []
  },
  {
   "cell_type": "code",
   "execution_count": null,
   "id": "181608ac-4880-4b28-a367-e1efe19da126",
   "metadata": {},
   "outputs": [],
   "source": []
  }
 ],
 "metadata": {
  "kernelspec": {
   "display_name": "Python 3 (ipykernel)",
   "language": "python",
   "name": "python3"
  },
  "language_info": {
   "codemirror_mode": {
    "name": "ipython",
    "version": 3
   },
   "file_extension": ".py",
   "mimetype": "text/x-python",
   "name": "python",
   "nbconvert_exporter": "python",
   "pygments_lexer": "ipython3",
   "version": "3.10.13"
  }
 },
 "nbformat": 4,
 "nbformat_minor": 5
}
